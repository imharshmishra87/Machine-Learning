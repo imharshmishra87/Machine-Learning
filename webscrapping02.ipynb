{
  "nbformat": 4,
  "nbformat_minor": 0,
  "metadata": {
    "colab": {
      "provenance": [],
      "authorship_tag": "ABX9TyN8JRwyEWBalD+Ue9ySWfMq",
      "include_colab_link": true
    },
    "kernelspec": {
      "name": "python3",
      "display_name": "Python 3"
    },
    "language_info": {
      "name": "python"
    }
  },
  "cells": [
    {
      "cell_type": "markdown",
      "metadata": {
        "id": "view-in-github",
        "colab_type": "text"
      },
      "source": [
        "<a href=\"https://colab.research.google.com/github/imharshmishra87/Machine-Learning-data-preprocessing/blob/main/webscrapping02.ipynb\" target=\"_parent\"><img src=\"https://colab.research.google.com/assets/colab-badge.svg\" alt=\"Open In Colab\"/></a>"
      ]
    },
    {
      "cell_type": "code",
      "execution_count": 1,
      "metadata": {
        "id": "crHg7V9GR_o8"
      },
      "outputs": [],
      "source": [
        "import pandas as pd\n",
        "import requests\n",
        "from bs4 import BeautifulSoup"
      ]
    },
    {
      "cell_type": "markdown",
      "source": [
        "# Accessing The Data From The Website *(Quotes to scrape)*"
      ],
      "metadata": {
        "id": "yearui2PSZ0n"
      }
    },
    {
      "cell_type": "code",
      "source": [
        "# url of website : https://quotes.toscrape.com\n",
        "response=requests.get(\"https://quotes.toscrape.com/page/1/\").text\n",
        "response"
      ],
      "metadata": {
        "colab": {
          "base_uri": "https://localhost:8080/",
          "height": 1000
        },
        "collapsed": true,
        "id": "HTkeTxIBSPzK",
        "outputId": "8cf1fb6c-5829-4b99-92c5-132e25edf173"
      },
      "execution_count": 5,
      "outputs": [
        {
          "output_type": "execute_result",
          "data": {
            "text/plain": [
              "'<!DOCTYPE html>\\n<html lang=\"en\">\\n<head>\\n\\t<meta charset=\"UTF-8\">\\n\\t<title>Quotes to Scrape</title>\\n    <link rel=\"stylesheet\" href=\"/static/bootstrap.min.css\">\\n    <link rel=\"stylesheet\" href=\"/static/main.css\">\\n    \\n    \\n</head>\\n<body>\\n    <div class=\"container\">\\n        <div class=\"row header-box\">\\n            <div class=\"col-md-8\">\\n                <h1>\\n                    <a href=\"/\" style=\"text-decoration: none\">Quotes to Scrape</a>\\n                </h1>\\n            </div>\\n            <div class=\"col-md-4\">\\n                <p>\\n                \\n                    <a href=\"/login\">Login</a>\\n                \\n                </p>\\n            </div>\\n        </div>\\n    \\n\\n<div class=\"row\">\\n    <div class=\"col-md-8\">\\n\\n    <div class=\"quote\" itemscope itemtype=\"http://schema.org/CreativeWork\">\\n        <span class=\"text\" itemprop=\"text\">“The world as we have created it is a process of our thinking. It cannot be changed without changing our thinking.”</span>\\n        <span>by <small class=\"author\" itemprop=\"author\">Albert Einstein</small>\\n        <a href=\"/author/Albert-Einstein\">(about)</a>\\n        </span>\\n        <div class=\"tags\">\\n            Tags:\\n            <meta class=\"keywords\" itemprop=\"keywords\" content=\"change,deep-thoughts,thinking,world\" /    > \\n            \\n            <a class=\"tag\" href=\"/tag/change/page/1/\">change</a>\\n            \\n            <a class=\"tag\" href=\"/tag/deep-thoughts/page/1/\">deep-thoughts</a>\\n            \\n            <a class=\"tag\" href=\"/tag/thinking/page/1/\">thinking</a>\\n            \\n            <a class=\"tag\" href=\"/tag/world/page/1/\">world</a>\\n            \\n        </div>\\n    </div>\\n\\n    <div class=\"quote\" itemscope itemtype=\"http://schema.org/CreativeWork\">\\n        <span class=\"text\" itemprop=\"text\">“It is our choices, Harry, that show what we truly are, far more than our abilities.”</span>\\n        <span>by <small class=\"author\" itemprop=\"author\">J.K. Rowling</small>\\n        <a href=\"/author/J-K-Rowling\">(about)</a>\\n        </span>\\n        <div class=\"tags\">\\n            Tags:\\n            <meta class=\"keywords\" itemprop=\"keywords\" content=\"abilities,choices\" /    > \\n            \\n            <a class=\"tag\" href=\"/tag/abilities/page/1/\">abilities</a>\\n            \\n            <a class=\"tag\" href=\"/tag/choices/page/1/\">choices</a>\\n            \\n        </div>\\n    </div>\\n\\n    <div class=\"quote\" itemscope itemtype=\"http://schema.org/CreativeWork\">\\n        <span class=\"text\" itemprop=\"text\">“There are only two ways to live your life. One is as though nothing is a miracle. The other is as though everything is a miracle.”</span>\\n        <span>by <small class=\"author\" itemprop=\"author\">Albert Einstein</small>\\n        <a href=\"/author/Albert-Einstein\">(about)</a>\\n        </span>\\n        <div class=\"tags\">\\n            Tags:\\n            <meta class=\"keywords\" itemprop=\"keywords\" content=\"inspirational,life,live,miracle,miracles\" /    > \\n            \\n            <a class=\"tag\" href=\"/tag/inspirational/page/1/\">inspirational</a>\\n            \\n            <a class=\"tag\" href=\"/tag/life/page/1/\">life</a>\\n            \\n            <a class=\"tag\" href=\"/tag/live/page/1/\">live</a>\\n            \\n            <a class=\"tag\" href=\"/tag/miracle/page/1/\">miracle</a>\\n            \\n            <a class=\"tag\" href=\"/tag/miracles/page/1/\">miracles</a>\\n            \\n        </div>\\n    </div>\\n\\n    <div class=\"quote\" itemscope itemtype=\"http://schema.org/CreativeWork\">\\n        <span class=\"text\" itemprop=\"text\">“The person, be it gentleman or lady, who has not pleasure in a good novel, must be intolerably stupid.”</span>\\n        <span>by <small class=\"author\" itemprop=\"author\">Jane Austen</small>\\n        <a href=\"/author/Jane-Austen\">(about)</a>\\n        </span>\\n        <div class=\"tags\">\\n            Tags:\\n            <meta class=\"keywords\" itemprop=\"keywords\" content=\"aliteracy,books,classic,humor\" /    > \\n            \\n            <a class=\"tag\" href=\"/tag/aliteracy/page/1/\">aliteracy</a>\\n            \\n            <a class=\"tag\" href=\"/tag/books/page/1/\">books</a>\\n            \\n            <a class=\"tag\" href=\"/tag/classic/page/1/\">classic</a>\\n            \\n            <a class=\"tag\" href=\"/tag/humor/page/1/\">humor</a>\\n            \\n        </div>\\n    </div>\\n\\n    <div class=\"quote\" itemscope itemtype=\"http://schema.org/CreativeWork\">\\n        <span class=\"text\" itemprop=\"text\">“Imperfection is beauty, madness is genius and it&#39;s better to be absolutely ridiculous than absolutely boring.”</span>\\n        <span>by <small class=\"author\" itemprop=\"author\">Marilyn Monroe</small>\\n        <a href=\"/author/Marilyn-Monroe\">(about)</a>\\n        </span>\\n        <div class=\"tags\">\\n            Tags:\\n            <meta class=\"keywords\" itemprop=\"keywords\" content=\"be-yourself,inspirational\" /    > \\n            \\n            <a class=\"tag\" href=\"/tag/be-yourself/page/1/\">be-yourself</a>\\n            \\n            <a class=\"tag\" href=\"/tag/inspirational/page/1/\">inspirational</a>\\n            \\n        </div>\\n    </div>\\n\\n    <div class=\"quote\" itemscope itemtype=\"http://schema.org/CreativeWork\">\\n        <span class=\"text\" itemprop=\"text\">“Try not to become a man of success. Rather become a man of value.”</span>\\n        <span>by <small class=\"author\" itemprop=\"author\">Albert Einstein</small>\\n        <a href=\"/author/Albert-Einstein\">(about)</a>\\n        </span>\\n        <div class=\"tags\">\\n            Tags:\\n            <meta class=\"keywords\" itemprop=\"keywords\" content=\"adulthood,success,value\" /    > \\n            \\n            <a class=\"tag\" href=\"/tag/adulthood/page/1/\">adulthood</a>\\n            \\n            <a class=\"tag\" href=\"/tag/success/page/1/\">success</a>\\n            \\n            <a class=\"tag\" href=\"/tag/value/page/1/\">value</a>\\n            \\n        </div>\\n    </div>\\n\\n    <div class=\"quote\" itemscope itemtype=\"http://schema.org/CreativeWork\">\\n        <span class=\"text\" itemprop=\"text\">“It is better to be hated for what you are than to be loved for what you are not.”</span>\\n        <span>by <small class=\"author\" itemprop=\"author\">André Gide</small>\\n        <a href=\"/author/Andre-Gide\">(about)</a>\\n        </span>\\n        <div class=\"tags\">\\n            Tags:\\n            <meta class=\"keywords\" itemprop=\"keywords\" content=\"life,love\" /    > \\n            \\n            <a class=\"tag\" href=\"/tag/life/page/1/\">life</a>\\n            \\n            <a class=\"tag\" href=\"/tag/love/page/1/\">love</a>\\n            \\n        </div>\\n    </div>\\n\\n    <div class=\"quote\" itemscope itemtype=\"http://schema.org/CreativeWork\">\\n        <span class=\"text\" itemprop=\"text\">“I have not failed. I&#39;ve just found 10,000 ways that won&#39;t work.”</span>\\n        <span>by <small class=\"author\" itemprop=\"author\">Thomas A. Edison</small>\\n        <a href=\"/author/Thomas-A-Edison\">(about)</a>\\n        </span>\\n        <div class=\"tags\">\\n            Tags:\\n            <meta class=\"keywords\" itemprop=\"keywords\" content=\"edison,failure,inspirational,paraphrased\" /    > \\n            \\n            <a class=\"tag\" href=\"/tag/edison/page/1/\">edison</a>\\n            \\n            <a class=\"tag\" href=\"/tag/failure/page/1/\">failure</a>\\n            \\n            <a class=\"tag\" href=\"/tag/inspirational/page/1/\">inspirational</a>\\n            \\n            <a class=\"tag\" href=\"/tag/paraphrased/page/1/\">paraphrased</a>\\n            \\n        </div>\\n    </div>\\n\\n    <div class=\"quote\" itemscope itemtype=\"http://schema.org/CreativeWork\">\\n        <span class=\"text\" itemprop=\"text\">“A woman is like a tea bag; you never know how strong it is until it&#39;s in hot water.”</span>\\n        <span>by <small class=\"author\" itemprop=\"author\">Eleanor Roosevelt</small>\\n        <a href=\"/author/Eleanor-Roosevelt\">(about)</a>\\n        </span>\\n        <div class=\"tags\">\\n            Tags:\\n            <meta class=\"keywords\" itemprop=\"keywords\" content=\"misattributed-eleanor-roosevelt\" /    > \\n            \\n            <a class=\"tag\" href=\"/tag/misattributed-eleanor-roosevelt/page/1/\">misattributed-eleanor-roosevelt</a>\\n            \\n        </div>\\n    </div>\\n\\n    <div class=\"quote\" itemscope itemtype=\"http://schema.org/CreativeWork\">\\n        <span class=\"text\" itemprop=\"text\">“A day without sunshine is like, you know, night.”</span>\\n        <span>by <small class=\"author\" itemprop=\"author\">Steve Martin</small>\\n        <a href=\"/author/Steve-Martin\">(about)</a>\\n        </span>\\n        <div class=\"tags\">\\n            Tags:\\n            <meta class=\"keywords\" itemprop=\"keywords\" content=\"humor,obvious,simile\" /    > \\n            \\n            <a class=\"tag\" href=\"/tag/humor/page/1/\">humor</a>\\n            \\n            <a class=\"tag\" href=\"/tag/obvious/page/1/\">obvious</a>\\n            \\n            <a class=\"tag\" href=\"/tag/simile/page/1/\">simile</a>\\n            \\n        </div>\\n    </div>\\n\\n    <nav>\\n        <ul class=\"pager\">\\n            \\n            \\n            <li class=\"next\">\\n                <a href=\"/page/2/\">Next <span aria-hidden=\"true\">&rarr;</span></a>\\n            </li>\\n            \\n        </ul>\\n    </nav>\\n    </div>\\n    <div class=\"col-md-4 tags-box\">\\n        \\n            <h2>Top Ten tags</h2>\\n            \\n            <span class=\"tag-item\">\\n            <a class=\"tag\" style=\"font-size: 28px\" href=\"/tag/love/\">love</a>\\n            </span>\\n            \\n            <span class=\"tag-item\">\\n            <a class=\"tag\" style=\"font-size: 26px\" href=\"/tag/inspirational/\">inspirational</a>\\n            </span>\\n            \\n            <span class=\"tag-item\">\\n            <a class=\"tag\" style=\"font-size: 26px\" href=\"/tag/life/\">life</a>\\n            </span>\\n            \\n            <span class=\"tag-item\">\\n            <a class=\"tag\" style=\"font-size: 24px\" href=\"/tag/humor/\">humor</a>\\n            </span>\\n            \\n            <span class=\"tag-item\">\\n            <a class=\"tag\" style=\"font-size: 22px\" href=\"/tag/books/\">books</a>\\n            </span>\\n            \\n            <span class=\"tag-item\">\\n            <a class=\"tag\" style=\"font-size: 14px\" href=\"/tag/reading/\">reading</a>\\n            </span>\\n            \\n            <span class=\"tag-item\">\\n            <a class=\"tag\" style=\"font-size: 10px\" href=\"/tag/friendship/\">friendship</a>\\n            </span>\\n            \\n            <span class=\"tag-item\">\\n            <a class=\"tag\" style=\"font-size: 8px\" href=\"/tag/friends/\">friends</a>\\n            </span>\\n            \\n            <span class=\"tag-item\">\\n            <a class=\"tag\" style=\"font-size: 8px\" href=\"/tag/truth/\">truth</a>\\n            </span>\\n            \\n            <span class=\"tag-item\">\\n            <a class=\"tag\" style=\"font-size: 6px\" href=\"/tag/simile/\">simile</a>\\n            </span>\\n            \\n        \\n    </div>\\n</div>\\n\\n    </div>\\n    <footer class=\"footer\">\\n        <div class=\"container\">\\n            <p class=\"text-muted\">\\n                Quotes by: <a href=\"https://www.goodreads.com/quotes\">GoodReads.com</a>\\n            </p>\\n            <p class=\"copyright\">\\n                Made with <span class=\\'zyte\\'>❤</span> by <a class=\\'zyte\\' href=\"https://www.zyte.com\">Zyte</a>\\n            </p>\\n        </div>\\n    </footer>\\n</body>\\n</html>'"
            ],
            "application/vnd.google.colaboratory.intrinsic+json": {
              "type": "string"
            }
          },
          "metadata": {},
          "execution_count": 5
        }
      ]
    },
    {
      "cell_type": "markdown",
      "source": [
        "# Parsing The file Using Beautifull Soup"
      ],
      "metadata": {
        "id": "k-BgjsGjTgoN"
      }
    },
    {
      "cell_type": "code",
      "source": [
        "soup=BeautifulSoup(response, 'lxml')"
      ],
      "metadata": {
        "id": "vToUNBcwSpWZ"
      },
      "execution_count": 12,
      "outputs": []
    },
    {
      "cell_type": "code",
      "source": [
        "soup.prettify()\n"
      ],
      "metadata": {
        "colab": {
          "base_uri": "https://localhost:8080/",
          "height": 123
        },
        "id": "1tuAucmkTPhU",
        "outputId": "83f61098-d18d-4172-c419-7b42d2fbba5b"
      },
      "execution_count": 13,
      "outputs": [
        {
          "output_type": "execute_result",
          "data": {
            "text/plain": [
              "'<!DOCTYPE html>\\n<html lang=\"en\">\\n <head>\\n  <meta charset=\"utf-8\"/>\\n  <title>\\n   Quotes to Scrape\\n  </title>\\n  <link href=\"/static/bootstrap.min.css\" rel=\"stylesheet\"/>\\n  <link href=\"/static/main.css\" rel=\"stylesheet\"/>\\n </head>\\n <body>\\n  <div class=\"container\">\\n   <div class=\"row header-box\">\\n    <div class=\"col-md-8\">\\n     <h1>\\n      <a href=\"/\" style=\"text-decoration: none\">\\n       Quotes to Scrape\\n      </a>\\n     </h1>\\n    </div>\\n    <div class=\"col-md-4\">\\n     <p>\\n      <a href=\"/login\">\\n       Login\\n      </a>\\n     </p>\\n    </div>\\n   </div>\\n   <div class=\"row\">\\n    <div class=\"col-md-8\">\\n     <div class=\"quote\" itemscope=\"\" itemtype=\"http://schema.org/CreativeWork\">\\n      <span class=\"text\" itemprop=\"text\">\\n       “The world as we have created it is a process of our thinking. It cannot be changed without changing our thinking.”\\n      </span>\\n      <span>\\n       by\\n       <small class=\"author\" itemprop=\"author\">\\n        Albert Einstein\\n       </small>\\n       <a href=\"/author/Albert-Einstein\">\\n        (about)\\n       </a>\\n      </span>\\n      <div class=\"tags\">\\n       Tags:\\n       <meta class=\"keywords\" content=\"change,deep-thoughts,thinking,world\" itemprop=\"keywords\"/>\\n       <a class=\"tag\" href=\"/tag/change/page/1/\">\\n        change\\n       </a>\\n       <a class=\"tag\" href=\"/tag/deep-thoughts/page/1/\">\\n        deep-thoughts\\n       </a>\\n       <a class=\"tag\" href=\"/tag/thinking/page/1/\">\\n        thinking\\n       </a>\\n       <a class=\"tag\" href=\"/tag/world/page/1/\">\\n        world\\n       </a>\\n      </div>\\n     </div>\\n     <div class=\"quote\" itemscope=\"\" itemtype=\"http://schema.org/CreativeWork\">\\n      <span class=\"text\" itemprop=\"text\">\\n       “It is our choices, Harry, that show what we truly are, far more than our abilities.”\\n      </span>\\n      <span>\\n       by\\n       <small class=\"author\" itemprop=\"author\">\\n        J.K. Rowling\\n       </small>\\n       <a href=\"/author/J-K-Rowling\">\\n        (about)\\n       </a>\\n      </span>\\n      <div class=\"tags\">\\n       Tags:\\n       <meta class=\"keywords\" content=\"abilities,choices\" itemprop=\"keywords\"/>\\n       <a class=\"tag\" href=\"/tag/abilities/page/1/\">\\n        abilities\\n       </a>\\n       <a class=\"tag\" href=\"/tag/choices/page/1/\">\\n        choices\\n       </a>\\n      </div>\\n     </div>\\n     <div class=\"quote\" itemscope=\"\" itemtype=\"http://schema.org/CreativeWork\">\\n      <span class=\"text\" itemprop=\"text\">\\n       “There are only two ways to live your life. One is as though nothing is a miracle. The other is as though everything is a miracle.”\\n      </span>\\n      <span>\\n       by\\n       <small class=\"author\" itemprop=\"author\">\\n        Albert Einstein\\n       </small>\\n       <a href=\"/author/Albert-Einstein\">\\n        (about)\\n       </a>\\n      </span>\\n      <div class=\"tags\">\\n       Tags:\\n       <meta class=\"keywords\" content=\"inspirational,life,live,miracle,miracles\" itemprop=\"keywords\"/>\\n       <a class=\"tag\" href=\"/tag/inspirational/page/1/\">\\n        inspirational\\n       </a>\\n       <a class=\"tag\" href=\"/tag/life/page/1/\">\\n        life\\n       </a>\\n       <a class=\"tag\" href=\"/tag/live/page/1/\">\\n        live\\n       </a>\\n       <a class=\"tag\" href=\"/tag/miracle/page/1/\">\\n        miracle\\n       </a>\\n       <a class=\"tag\" href=\"/tag/miracles/page/1/\">\\n        miracles\\n       </a>\\n      </div>\\n     </div>\\n     <div class=\"quote\" itemscope=\"\" itemtype=\"http://schema.org/CreativeWork\">\\n      <span class=\"text\" itemprop=\"text\">\\n       “The person, be it gentleman or lady, who has not pleasure in a good novel, must be intolerably stupid.”\\n      </span>\\n      <span>\\n       by\\n       <small class=\"author\" itemprop=\"author\">\\n        Jane Austen\\n       </small>\\n       <a href=\"/author/Jane-Austen\">\\n        (about)\\n       </a>\\n      </span>\\n      <div class=\"tags\">\\n       Tags:\\n       <meta class=\"keywords\" content=\"aliteracy,books,classic,humor\" itemprop=\"keywords\"/>\\n       <a class=\"tag\" href=\"/tag/aliteracy/page/1/\">\\n        aliteracy\\n       </a>\\n       <a class=\"tag\" href=\"/tag/books/page/1/\">\\n        books\\n       </a>\\n       <a class=\"tag\" href=\"/tag/classic/page/1/\">\\n        classic\\n       </a>\\n       <a class=\"tag\" href=\"/tag/humor/page/1/\">\\n        humor\\n       </a>\\n      </div>\\n     </div>\\n     <div class=\"quote\" itemscope=\"\" itemtype=\"http://schema.org/CreativeWork\">\\n      <span class=\"text\" itemprop=\"text\">\\n       “Imperfection is beauty, madness is genius and it\\'s better to be absolutely ridiculous than absolutely boring.”\\n      </span>\\n      <span>\\n       by\\n       <small class=\"author\" itemprop=\"author\">\\n        Marilyn Monroe\\n       </small>\\n       <a href=\"/author/Marilyn-Monroe\">\\n        (about)\\n       </a>\\n      </span>\\n      <div class=\"tags\">\\n       Tags:\\n       <meta class=\"keywords\" content=\"be-yourself,inspirational\" itemprop=\"keywords\"/>\\n       <a class=\"tag\" href=\"/tag/be-yourself/page/1/\">\\n        be-yourself\\n       </a>\\n       <a class=\"tag\" href=\"/tag/inspirational/page/1/\">\\n        inspirational\\n       </a>\\n      </div>\\n     </div>\\n     <div class=\"quote\" itemscope=\"\" itemtype=\"http://schema.org/CreativeWork\">\\n      <span class=\"text\" itemprop=\"text\">\\n       “Try not to become a man of success. Rather become a man of value.”\\n      </span>\\n      <span>\\n       by\\n       <small class=\"author\" itemprop=\"author\">\\n        Albert Einstein\\n       </small>\\n       <a href=\"/author/Albert-Einstein\">\\n        (about)\\n       </a>\\n      </span>\\n      <div class=\"tags\">\\n       Tags:\\n       <meta class=\"keywords\" content=\"adulthood,success,value\" itemprop=\"keywords\"/>\\n       <a class=\"tag\" href=\"/tag/adulthood/page/1/\">\\n        adulthood\\n       </a>\\n       <a class=\"tag\" href=\"/tag/success/page/1/\">\\n        success\\n       </a>\\n       <a class=\"tag\" href=\"/tag/value/page/1/\">\\n        value\\n       </a>\\n      </div>\\n     </div>\\n     <div class=\"quote\" itemscope=\"\" itemtype=\"http://schema.org/CreativeWork\">\\n      <span class=\"text\" itemprop=\"text\">\\n       “It is better to be hated for what you are than to be loved for what you are not.”\\n      </span>\\n      <span>\\n       by\\n       <small class=\"author\" itemprop=\"author\">\\n        André Gide\\n       </small>\\n       <a href=\"/author/Andre-Gide\">\\n        (about)\\n       </a>\\n      </span>\\n      <div class=\"tags\">\\n       Tags:\\n       <meta class=\"keywords\" content=\"life,love\" itemprop=\"keywords\"/>\\n       <a class=\"tag\" href=\"/tag/life/page/1/\">\\n        life\\n       </a>\\n       <a class=\"tag\" href=\"/tag/love/page/1/\">\\n        love\\n       </a>\\n      </div>\\n     </div>\\n     <div class=\"quote\" itemscope=\"\" itemtype=\"http://schema.org/CreativeWork\">\\n      <span class=\"text\" itemprop=\"text\">\\n       “I have not failed. I\\'ve just found 10,000 ways that won\\'t work.”\\n      </span>\\n      <span>\\n       by\\n       <small class=\"author\" itemprop=\"author\">\\n        Thomas A. Edison\\n       </small>\\n       <a href=\"/author/Thomas-A-Edison\">\\n        (about)\\n       </a>\\n      </span>\\n      <div class=\"tags\">\\n       Tags:\\n       <meta class=\"keywords\" content=\"edison,failure,inspirational,paraphrased\" itemprop=\"keywords\"/>\\n       <a class=\"tag\" href=\"/tag/edison/page/1/\">\\n        edison\\n       </a>\\n       <a class=\"tag\" href=\"/tag/failure/page/1/\">\\n        failure\\n       </a>\\n       <a class=\"tag\" href=\"/tag/inspirational/page/1/\">\\n        inspirational\\n       </a>\\n       <a class=\"tag\" href=\"/tag/paraphrased/page/1/\">\\n        paraphrased\\n       </a>\\n      </div>\\n     </div>\\n     <div class=\"quote\" itemscope=\"\" itemtype=\"http://schema.org/CreativeWork\">\\n      <span class=\"text\" itemprop=\"text\">\\n       “A woman is like a tea bag; you never know how strong it is until it\\'s in hot water.”\\n      </span>\\n      <span>\\n       by\\n       <small class=\"author\" itemprop=\"author\">\\n        Eleanor Roosevelt\\n       </small>\\n       <a href=\"/author/Eleanor-Roosevelt\">\\n        (about)\\n       </a>\\n      </span>\\n      <div class=\"tags\">\\n       Tags:\\n       <meta class=\"keywords\" content=\"misattributed-eleanor-roosevelt\" itemprop=\"keywords\"/>\\n       <a class=\"tag\" href=\"/tag/misattributed-eleanor-roosevelt/page/1/\">\\n        misattributed-eleanor-roosevelt\\n       </a>\\n      </div>\\n     </div>\\n     <div class=\"quote\" itemscope=\"\" itemtype=\"http://schema.org/CreativeWork\">\\n      <span class=\"text\" itemprop=\"text\">\\n       “A day without sunshine is like, you know, night.”\\n      </span>\\n      <span>\\n       by\\n       <small class=\"author\" itemprop=\"author\">\\n        Steve Martin\\n       </small>\\n       <a href=\"/author/Steve-Martin\">\\n        (about)\\n       </a>\\n      </span>\\n      <div class=\"tags\">\\n       Tags:\\n       <meta class=\"keywords\" content=\"humor,obvious,simile\" itemprop=\"keywords\"/>\\n       <a class=\"tag\" href=\"/tag/humor/page/1/\">\\n        humor\\n       </a>\\n       <a class=\"tag\" href=\"/tag/obvious/page/1/\">\\n        obvious\\n       </a>\\n       <a class=\"tag\" href=\"/tag/simile/page/1/\">\\n        simile\\n       </a>\\n      </div>\\n     </div>\\n     <nav>\\n      <ul class=\"pager\">\\n       <li class=\"next\">\\n        <a href=\"/page/2/\">\\n         Next\\n         <span aria-hidden=\"true\">\\n          →\\n         </span>\\n        </a>\\n       </li>\\n      </ul>\\n     </nav>\\n    </div>\\n    <div class=\"col-md-4 tags-box\">\\n     <h2>\\n      Top Ten tags\\n     </h2>\\n     <span class=\"tag-item\">\\n      <a class=\"tag\" href=\"/tag/love/\" style=\"font-size: 28px\">\\n       love\\n      </a>\\n     </span>\\n     <span class=\"tag-item\">\\n      <a class=\"tag\" href=\"/tag/inspirational/\" style=\"font-size: 26px\">\\n       inspirational\\n      </a>\\n     </span>\\n     <span class=\"tag-item\">\\n      <a class=\"tag\" href=\"/tag/life/\" style=\"font-size: 26px\">\\n       life\\n      </a>\\n     </span>\\n     <span class=\"tag-item\">\\n      <a class=\"tag\" href=\"/tag/humor/\" style=\"font-size: 24px\">\\n       humor\\n      </a>\\n     </span>\\n     <span class=\"tag-item\">\\n      <a class=\"tag\" href=\"/tag/books/\" style=\"font-size: 22px\">\\n       books\\n      </a>\\n     </span>\\n     <span class=\"tag-item\">\\n      <a class=\"tag\" href=\"/tag/reading/\" style=\"font-size: 14px\">\\n       reading\\n      </a>\\n     </span>\\n     <span class=\"tag-item\">\\n      <a class=\"tag\" href=\"/tag/friendship/\" style=\"font-size: 10px\">\\n       friendship\\n      </a>\\n     </span>\\n     <span class=\"tag-item\">\\n      <a class=\"tag\" href=\"/tag/friends/\" style=\"font-size: 8px\">\\n       friends\\n      </a>\\n     </span>\\n     <span class=\"tag-item\">\\n      <a class=\"tag\" href=\"/tag/truth/\" style=\"font-size: 8px\">\\n       truth\\n      </a>\\n     </span>\\n     <span class=\"tag-item\">\\n      <a class=\"tag\" href=\"/tag/simile/\" style=\"font-size: 6px\">\\n       simile\\n      </a>\\n     </span>\\n    </div>\\n   </div>\\n  </div>\\n  <footer class=\"footer\">\\n   <div class=\"container\">\\n    <p class=\"text-muted\">\\n     Quotes by:\\n     <a href=\"https://www.goodreads.com/quotes\">\\n      GoodReads.com\\n     </a>\\n    </p>\\n    <p class=\"copyright\">\\n     Made with\\n     <span class=\"zyte\">\\n      ❤\\n     </span>\\n     by\\n     <a class=\"zyte\" href=\"https://www.zyte.com\">\\n      Zyte\\n     </a>\\n    </p>\\n   </div>\\n  </footer>\\n </body>\\n</html>\\n'"
            ],
            "application/vnd.google.colaboratory.intrinsic+json": {
              "type": "string"
            }
          },
          "metadata": {},
          "execution_count": 13
        }
      ]
    },
    {
      "cell_type": "markdown",
      "source": [
        "# Fetching The Data From The Single Page"
      ],
      "metadata": {
        "id": "QjoCypbhkJCn"
      }
    },
    {
      "cell_type": "code",
      "source": [
        "\n",
        "quotes=[]\n",
        "author=[]\n",
        "tags=[]\n",
        "for i in soup.find_all('div',class_='col-md-8'):\n",
        "  for qu in i.find_all('span',class_='text'):\n",
        "    quotes.append(qu.text)\n",
        "  for au in i.find_all('small',class_=\"author\"):\n",
        "    author.append(au.text)\n",
        "  for tg in i.find_all('a', class_='tag'):\n",
        "    tags.append(tg.text)\n",
        "\n"
      ],
      "metadata": {
        "colab": {
          "base_uri": "https://localhost:8080/"
        },
        "id": "WSfoMmfCTsYM",
        "outputId": "a014f881-469e-44e6-b512-9c9a51108bb4"
      },
      "execution_count": 34,
      "outputs": [
        {
          "output_type": "execute_result",
          "data": {
            "text/plain": [
              "['change',\n",
              " 'deep-thoughts',\n",
              " 'thinking',\n",
              " 'world',\n",
              " 'abilities',\n",
              " 'choices',\n",
              " 'inspirational',\n",
              " 'life',\n",
              " 'live',\n",
              " 'miracle',\n",
              " 'miracles',\n",
              " 'aliteracy',\n",
              " 'books',\n",
              " 'classic',\n",
              " 'humor',\n",
              " 'be-yourself',\n",
              " 'inspirational',\n",
              " 'adulthood',\n",
              " 'success',\n",
              " 'value',\n",
              " 'life',\n",
              " 'love',\n",
              " 'edison',\n",
              " 'failure',\n",
              " 'inspirational',\n",
              " 'paraphrased',\n",
              " 'misattributed-eleanor-roosevelt',\n",
              " 'humor',\n",
              " 'obvious',\n",
              " 'simile']"
            ]
          },
          "metadata": {},
          "execution_count": 34
        }
      ]
    },
    {
      "cell_type": "markdown",
      "source": [
        "# Fetching the Data From The Remaining Pages"
      ],
      "metadata": {
        "id": "LDodYt15j8wL"
      }
    },
    {
      "cell_type": "code",
      "source": [
        "quotes_data=[]\n",
        "quotes=[]\n",
        "author=[]\n",
        "tags=[]\n",
        "for j in range(1,11):\n",
        "  response=requests.get(\"https://quotes.toscrape.com/page/{}/\".format(j)).text\n",
        "  soup=BeautifulSoup(response, 'lxml')\n",
        "\n",
        "  for i in soup.find_all('div',class_='quote'):\n",
        "    for qu in i.find_all('span',class_='text'):\n",
        "      quotes.append(qu.text)\n",
        "    for au in i.find_all('small',class_=\"author\"):\n",
        "      author.append(au.text)\n",
        "    tags_list=','.join([tg.text for tg in i.find_all('a',class_='tag')])\n",
        "    tags.append(tags_list)"
      ],
      "metadata": {
        "collapsed": true,
        "id": "MM8x0L64Yn_F"
      },
      "execution_count": 68,
      "outputs": []
    },
    {
      "cell_type": "markdown",
      "source": [
        "# Converting The Data Scrapped Into DataFrame"
      ],
      "metadata": {
        "id": "dw9sE7_9juZr"
      }
    },
    {
      "cell_type": "code",
      "source": [
        "data={'Quotes':quotes,\n",
        "      'Author Names':author,\n",
        "      'Tags':tags}\n",
        "df=pd.DataFrame(data)\n",
        "\n"
      ],
      "metadata": {
        "id": "0uHlm4bXfiZg"
      },
      "execution_count": 69,
      "outputs": []
    },
    {
      "cell_type": "code",
      "source": [
        "df"
      ],
      "metadata": {
        "colab": {
          "base_uri": "https://localhost:8080/",
          "height": 423
        },
        "id": "yaE9iv6tZcMr",
        "outputId": "b3008355-f565-41d3-8c18-ad4d3e8b8770"
      },
      "execution_count": 70,
      "outputs": [
        {
          "output_type": "execute_result",
          "data": {
            "text/plain": [
              "                                               Quotes        Author Names  \\\n",
              "0   “The world as we have created it is a process ...     Albert Einstein   \n",
              "1   “It is our choices, Harry, that show what we t...        J.K. Rowling   \n",
              "2   “There are only two ways to live your life. On...     Albert Einstein   \n",
              "3   “The person, be it gentleman or lady, who has ...         Jane Austen   \n",
              "4   “Imperfection is beauty, madness is genius and...      Marilyn Monroe   \n",
              "..                                                ...                 ...   \n",
              "95  “You never really understand a person until yo...          Harper Lee   \n",
              "96  “You have to write the book that wants to be w...   Madeleine L'Engle   \n",
              "97  “Never tell the truth to people who are not wo...          Mark Twain   \n",
              "98        “A person's a person, no matter how small.”           Dr. Seuss   \n",
              "99  “... a mind needs books as a sword needs a whe...  George R.R. Martin   \n",
              "\n",
              "                                                 Tags  \n",
              "0                 change,deep-thoughts,thinking,world  \n",
              "1                                   abilities,choices  \n",
              "2            inspirational,life,live,miracle,miracles  \n",
              "3                       aliteracy,books,classic,humor  \n",
              "4                           be-yourself,inspirational  \n",
              "..                                                ...  \n",
              "95                                better-life-empathy  \n",
              "96  books,children,difficult,grown-ups,write,write...  \n",
              "97                                              truth  \n",
              "98                                      inspirational  \n",
              "99                                         books,mind  \n",
              "\n",
              "[100 rows x 3 columns]"
            ],
            "text/html": [
              "\n",
              "  <div id=\"df-fbf39bc4-60c5-435c-988e-f5e5c0860858\" class=\"colab-df-container\">\n",
              "    <div>\n",
              "<style scoped>\n",
              "    .dataframe tbody tr th:only-of-type {\n",
              "        vertical-align: middle;\n",
              "    }\n",
              "\n",
              "    .dataframe tbody tr th {\n",
              "        vertical-align: top;\n",
              "    }\n",
              "\n",
              "    .dataframe thead th {\n",
              "        text-align: right;\n",
              "    }\n",
              "</style>\n",
              "<table border=\"1\" class=\"dataframe\">\n",
              "  <thead>\n",
              "    <tr style=\"text-align: right;\">\n",
              "      <th></th>\n",
              "      <th>Quotes</th>\n",
              "      <th>Author Names</th>\n",
              "      <th>Tags</th>\n",
              "    </tr>\n",
              "  </thead>\n",
              "  <tbody>\n",
              "    <tr>\n",
              "      <th>0</th>\n",
              "      <td>“The world as we have created it is a process ...</td>\n",
              "      <td>Albert Einstein</td>\n",
              "      <td>change,deep-thoughts,thinking,world</td>\n",
              "    </tr>\n",
              "    <tr>\n",
              "      <th>1</th>\n",
              "      <td>“It is our choices, Harry, that show what we t...</td>\n",
              "      <td>J.K. Rowling</td>\n",
              "      <td>abilities,choices</td>\n",
              "    </tr>\n",
              "    <tr>\n",
              "      <th>2</th>\n",
              "      <td>“There are only two ways to live your life. On...</td>\n",
              "      <td>Albert Einstein</td>\n",
              "      <td>inspirational,life,live,miracle,miracles</td>\n",
              "    </tr>\n",
              "    <tr>\n",
              "      <th>3</th>\n",
              "      <td>“The person, be it gentleman or lady, who has ...</td>\n",
              "      <td>Jane Austen</td>\n",
              "      <td>aliteracy,books,classic,humor</td>\n",
              "    </tr>\n",
              "    <tr>\n",
              "      <th>4</th>\n",
              "      <td>“Imperfection is beauty, madness is genius and...</td>\n",
              "      <td>Marilyn Monroe</td>\n",
              "      <td>be-yourself,inspirational</td>\n",
              "    </tr>\n",
              "    <tr>\n",
              "      <th>...</th>\n",
              "      <td>...</td>\n",
              "      <td>...</td>\n",
              "      <td>...</td>\n",
              "    </tr>\n",
              "    <tr>\n",
              "      <th>95</th>\n",
              "      <td>“You never really understand a person until yo...</td>\n",
              "      <td>Harper Lee</td>\n",
              "      <td>better-life-empathy</td>\n",
              "    </tr>\n",
              "    <tr>\n",
              "      <th>96</th>\n",
              "      <td>“You have to write the book that wants to be w...</td>\n",
              "      <td>Madeleine L'Engle</td>\n",
              "      <td>books,children,difficult,grown-ups,write,write...</td>\n",
              "    </tr>\n",
              "    <tr>\n",
              "      <th>97</th>\n",
              "      <td>“Never tell the truth to people who are not wo...</td>\n",
              "      <td>Mark Twain</td>\n",
              "      <td>truth</td>\n",
              "    </tr>\n",
              "    <tr>\n",
              "      <th>98</th>\n",
              "      <td>“A person's a person, no matter how small.”</td>\n",
              "      <td>Dr. Seuss</td>\n",
              "      <td>inspirational</td>\n",
              "    </tr>\n",
              "    <tr>\n",
              "      <th>99</th>\n",
              "      <td>“... a mind needs books as a sword needs a whe...</td>\n",
              "      <td>George R.R. Martin</td>\n",
              "      <td>books,mind</td>\n",
              "    </tr>\n",
              "  </tbody>\n",
              "</table>\n",
              "<p>100 rows × 3 columns</p>\n",
              "</div>\n",
              "    <div class=\"colab-df-buttons\">\n",
              "\n",
              "  <div class=\"colab-df-container\">\n",
              "    <button class=\"colab-df-convert\" onclick=\"convertToInteractive('df-fbf39bc4-60c5-435c-988e-f5e5c0860858')\"\n",
              "            title=\"Convert this dataframe to an interactive table.\"\n",
              "            style=\"display:none;\">\n",
              "\n",
              "  <svg xmlns=\"http://www.w3.org/2000/svg\" height=\"24px\" viewBox=\"0 -960 960 960\">\n",
              "    <path d=\"M120-120v-720h720v720H120Zm60-500h600v-160H180v160Zm220 220h160v-160H400v160Zm0 220h160v-160H400v160ZM180-400h160v-160H180v160Zm440 0h160v-160H620v160ZM180-180h160v-160H180v160Zm440 0h160v-160H620v160Z\"/>\n",
              "  </svg>\n",
              "    </button>\n",
              "\n",
              "  <style>\n",
              "    .colab-df-container {\n",
              "      display:flex;\n",
              "      gap: 12px;\n",
              "    }\n",
              "\n",
              "    .colab-df-convert {\n",
              "      background-color: #E8F0FE;\n",
              "      border: none;\n",
              "      border-radius: 50%;\n",
              "      cursor: pointer;\n",
              "      display: none;\n",
              "      fill: #1967D2;\n",
              "      height: 32px;\n",
              "      padding: 0 0 0 0;\n",
              "      width: 32px;\n",
              "    }\n",
              "\n",
              "    .colab-df-convert:hover {\n",
              "      background-color: #E2EBFA;\n",
              "      box-shadow: 0px 1px 2px rgba(60, 64, 67, 0.3), 0px 1px 3px 1px rgba(60, 64, 67, 0.15);\n",
              "      fill: #174EA6;\n",
              "    }\n",
              "\n",
              "    .colab-df-buttons div {\n",
              "      margin-bottom: 4px;\n",
              "    }\n",
              "\n",
              "    [theme=dark] .colab-df-convert {\n",
              "      background-color: #3B4455;\n",
              "      fill: #D2E3FC;\n",
              "    }\n",
              "\n",
              "    [theme=dark] .colab-df-convert:hover {\n",
              "      background-color: #434B5C;\n",
              "      box-shadow: 0px 1px 3px 1px rgba(0, 0, 0, 0.15);\n",
              "      filter: drop-shadow(0px 1px 2px rgba(0, 0, 0, 0.3));\n",
              "      fill: #FFFFFF;\n",
              "    }\n",
              "  </style>\n",
              "\n",
              "    <script>\n",
              "      const buttonEl =\n",
              "        document.querySelector('#df-fbf39bc4-60c5-435c-988e-f5e5c0860858 button.colab-df-convert');\n",
              "      buttonEl.style.display =\n",
              "        google.colab.kernel.accessAllowed ? 'block' : 'none';\n",
              "\n",
              "      async function convertToInteractive(key) {\n",
              "        const element = document.querySelector('#df-fbf39bc4-60c5-435c-988e-f5e5c0860858');\n",
              "        const dataTable =\n",
              "          await google.colab.kernel.invokeFunction('convertToInteractive',\n",
              "                                                    [key], {});\n",
              "        if (!dataTable) return;\n",
              "\n",
              "        const docLinkHtml = 'Like what you see? Visit the ' +\n",
              "          '<a target=\"_blank\" href=https://colab.research.google.com/notebooks/data_table.ipynb>data table notebook</a>'\n",
              "          + ' to learn more about interactive tables.';\n",
              "        element.innerHTML = '';\n",
              "        dataTable['output_type'] = 'display_data';\n",
              "        await google.colab.output.renderOutput(dataTable, element);\n",
              "        const docLink = document.createElement('div');\n",
              "        docLink.innerHTML = docLinkHtml;\n",
              "        element.appendChild(docLink);\n",
              "      }\n",
              "    </script>\n",
              "  </div>\n",
              "\n",
              "\n",
              "    <div id=\"df-b180257c-1586-47af-8f98-fc052e768cf7\">\n",
              "      <button class=\"colab-df-quickchart\" onclick=\"quickchart('df-b180257c-1586-47af-8f98-fc052e768cf7')\"\n",
              "                title=\"Suggest charts\"\n",
              "                style=\"display:none;\">\n",
              "\n",
              "<svg xmlns=\"http://www.w3.org/2000/svg\" height=\"24px\"viewBox=\"0 0 24 24\"\n",
              "     width=\"24px\">\n",
              "    <g>\n",
              "        <path d=\"M19 3H5c-1.1 0-2 .9-2 2v14c0 1.1.9 2 2 2h14c1.1 0 2-.9 2-2V5c0-1.1-.9-2-2-2zM9 17H7v-7h2v7zm4 0h-2V7h2v10zm4 0h-2v-4h2v4z\"/>\n",
              "    </g>\n",
              "</svg>\n",
              "      </button>\n",
              "\n",
              "<style>\n",
              "  .colab-df-quickchart {\n",
              "      --bg-color: #E8F0FE;\n",
              "      --fill-color: #1967D2;\n",
              "      --hover-bg-color: #E2EBFA;\n",
              "      --hover-fill-color: #174EA6;\n",
              "      --disabled-fill-color: #AAA;\n",
              "      --disabled-bg-color: #DDD;\n",
              "  }\n",
              "\n",
              "  [theme=dark] .colab-df-quickchart {\n",
              "      --bg-color: #3B4455;\n",
              "      --fill-color: #D2E3FC;\n",
              "      --hover-bg-color: #434B5C;\n",
              "      --hover-fill-color: #FFFFFF;\n",
              "      --disabled-bg-color: #3B4455;\n",
              "      --disabled-fill-color: #666;\n",
              "  }\n",
              "\n",
              "  .colab-df-quickchart {\n",
              "    background-color: var(--bg-color);\n",
              "    border: none;\n",
              "    border-radius: 50%;\n",
              "    cursor: pointer;\n",
              "    display: none;\n",
              "    fill: var(--fill-color);\n",
              "    height: 32px;\n",
              "    padding: 0;\n",
              "    width: 32px;\n",
              "  }\n",
              "\n",
              "  .colab-df-quickchart:hover {\n",
              "    background-color: var(--hover-bg-color);\n",
              "    box-shadow: 0 1px 2px rgba(60, 64, 67, 0.3), 0 1px 3px 1px rgba(60, 64, 67, 0.15);\n",
              "    fill: var(--button-hover-fill-color);\n",
              "  }\n",
              "\n",
              "  .colab-df-quickchart-complete:disabled,\n",
              "  .colab-df-quickchart-complete:disabled:hover {\n",
              "    background-color: var(--disabled-bg-color);\n",
              "    fill: var(--disabled-fill-color);\n",
              "    box-shadow: none;\n",
              "  }\n",
              "\n",
              "  .colab-df-spinner {\n",
              "    border: 2px solid var(--fill-color);\n",
              "    border-color: transparent;\n",
              "    border-bottom-color: var(--fill-color);\n",
              "    animation:\n",
              "      spin 1s steps(1) infinite;\n",
              "  }\n",
              "\n",
              "  @keyframes spin {\n",
              "    0% {\n",
              "      border-color: transparent;\n",
              "      border-bottom-color: var(--fill-color);\n",
              "      border-left-color: var(--fill-color);\n",
              "    }\n",
              "    20% {\n",
              "      border-color: transparent;\n",
              "      border-left-color: var(--fill-color);\n",
              "      border-top-color: var(--fill-color);\n",
              "    }\n",
              "    30% {\n",
              "      border-color: transparent;\n",
              "      border-left-color: var(--fill-color);\n",
              "      border-top-color: var(--fill-color);\n",
              "      border-right-color: var(--fill-color);\n",
              "    }\n",
              "    40% {\n",
              "      border-color: transparent;\n",
              "      border-right-color: var(--fill-color);\n",
              "      border-top-color: var(--fill-color);\n",
              "    }\n",
              "    60% {\n",
              "      border-color: transparent;\n",
              "      border-right-color: var(--fill-color);\n",
              "    }\n",
              "    80% {\n",
              "      border-color: transparent;\n",
              "      border-right-color: var(--fill-color);\n",
              "      border-bottom-color: var(--fill-color);\n",
              "    }\n",
              "    90% {\n",
              "      border-color: transparent;\n",
              "      border-bottom-color: var(--fill-color);\n",
              "    }\n",
              "  }\n",
              "</style>\n",
              "\n",
              "      <script>\n",
              "        async function quickchart(key) {\n",
              "          const quickchartButtonEl =\n",
              "            document.querySelector('#' + key + ' button');\n",
              "          quickchartButtonEl.disabled = true;  // To prevent multiple clicks.\n",
              "          quickchartButtonEl.classList.add('colab-df-spinner');\n",
              "          try {\n",
              "            const charts = await google.colab.kernel.invokeFunction(\n",
              "                'suggestCharts', [key], {});\n",
              "          } catch (error) {\n",
              "            console.error('Error during call to suggestCharts:', error);\n",
              "          }\n",
              "          quickchartButtonEl.classList.remove('colab-df-spinner');\n",
              "          quickchartButtonEl.classList.add('colab-df-quickchart-complete');\n",
              "        }\n",
              "        (() => {\n",
              "          let quickchartButtonEl =\n",
              "            document.querySelector('#df-b180257c-1586-47af-8f98-fc052e768cf7 button');\n",
              "          quickchartButtonEl.style.display =\n",
              "            google.colab.kernel.accessAllowed ? 'block' : 'none';\n",
              "        })();\n",
              "      </script>\n",
              "    </div>\n",
              "\n",
              "  <div id=\"id_e6be61a6-3a59-44c4-b0b1-ce818832f65b\">\n",
              "    <style>\n",
              "      .colab-df-generate {\n",
              "        background-color: #E8F0FE;\n",
              "        border: none;\n",
              "        border-radius: 50%;\n",
              "        cursor: pointer;\n",
              "        display: none;\n",
              "        fill: #1967D2;\n",
              "        height: 32px;\n",
              "        padding: 0 0 0 0;\n",
              "        width: 32px;\n",
              "      }\n",
              "\n",
              "      .colab-df-generate:hover {\n",
              "        background-color: #E2EBFA;\n",
              "        box-shadow: 0px 1px 2px rgba(60, 64, 67, 0.3), 0px 1px 3px 1px rgba(60, 64, 67, 0.15);\n",
              "        fill: #174EA6;\n",
              "      }\n",
              "\n",
              "      [theme=dark] .colab-df-generate {\n",
              "        background-color: #3B4455;\n",
              "        fill: #D2E3FC;\n",
              "      }\n",
              "\n",
              "      [theme=dark] .colab-df-generate:hover {\n",
              "        background-color: #434B5C;\n",
              "        box-shadow: 0px 1px 3px 1px rgba(0, 0, 0, 0.15);\n",
              "        filter: drop-shadow(0px 1px 2px rgba(0, 0, 0, 0.3));\n",
              "        fill: #FFFFFF;\n",
              "      }\n",
              "    </style>\n",
              "    <button class=\"colab-df-generate\" onclick=\"generateWithVariable('df')\"\n",
              "            title=\"Generate code using this dataframe.\"\n",
              "            style=\"display:none;\">\n",
              "\n",
              "  <svg xmlns=\"http://www.w3.org/2000/svg\" height=\"24px\"viewBox=\"0 0 24 24\"\n",
              "       width=\"24px\">\n",
              "    <path d=\"M7,19H8.4L18.45,9,17,7.55,7,17.6ZM5,21V16.75L18.45,3.32a2,2,0,0,1,2.83,0l1.4,1.43a1.91,1.91,0,0,1,.58,1.4,1.91,1.91,0,0,1-.58,1.4L9.25,21ZM18.45,9,17,7.55Zm-12,3A5.31,5.31,0,0,0,4.9,8.1,5.31,5.31,0,0,0,1,6.5,5.31,5.31,0,0,0,4.9,4.9,5.31,5.31,0,0,0,6.5,1,5.31,5.31,0,0,0,8.1,4.9,5.31,5.31,0,0,0,12,6.5,5.46,5.46,0,0,0,6.5,12Z\"/>\n",
              "  </svg>\n",
              "    </button>\n",
              "    <script>\n",
              "      (() => {\n",
              "      const buttonEl =\n",
              "        document.querySelector('#id_e6be61a6-3a59-44c4-b0b1-ce818832f65b button.colab-df-generate');\n",
              "      buttonEl.style.display =\n",
              "        google.colab.kernel.accessAllowed ? 'block' : 'none';\n",
              "\n",
              "      buttonEl.onclick = () => {\n",
              "        google.colab.notebook.generateWithVariable('df');\n",
              "      }\n",
              "      })();\n",
              "    </script>\n",
              "  </div>\n",
              "\n",
              "    </div>\n",
              "  </div>\n"
            ],
            "application/vnd.google.colaboratory.intrinsic+json": {
              "type": "dataframe",
              "variable_name": "df",
              "summary": "{\n  \"name\": \"df\",\n  \"rows\": 100,\n  \"fields\": [\n    {\n      \"column\": \"Quotes\",\n      \"properties\": {\n        \"dtype\": \"string\",\n        \"num_unique_values\": 100,\n        \"samples\": [\n          \"\\u201cI declare after all there is no enjoyment like reading! How much sooner one tires of any thing than of a book! -- When I have a house of my own, I shall be miserable if I have not an excellent library.\\u201d\",\n          \"\\u201cIf I were not a physicist, I would probably be a musician. I often think in music. I live my daydreams in music. I see my life in terms of music.\\u201d\",\n          \"\\u201cIf I had a flower for every time I thought of you...I could walk through my garden forever.\\u201d\"\n        ],\n        \"semantic_type\": \"\",\n        \"description\": \"\"\n      }\n    },\n    {\n      \"column\": \"Author Names\",\n      \"properties\": {\n        \"dtype\": \"string\",\n        \"num_unique_values\": 50,\n        \"samples\": [\n          \"Mark Twain\",\n          \"J.D. Salinger\",\n          \"Stephenie Meyer\"\n        ],\n        \"semantic_type\": \"\",\n        \"description\": \"\"\n      }\n    },\n    {\n      \"column\": \"Tags\",\n      \"properties\": {\n        \"dtype\": \"string\",\n        \"num_unique_values\": 84,\n        \"samples\": [\n          \"god\",\n          \"change,deep-thoughts,thinking,world\",\n          \"education\"\n        ],\n        \"semantic_type\": \"\",\n        \"description\": \"\"\n      }\n    }\n  ]\n}"
            }
          },
          "metadata": {},
          "execution_count": 70
        }
      ]
    },
    {
      "cell_type": "markdown",
      "source": [
        "# Converting The Data Into CSV Data Set"
      ],
      "metadata": {
        "id": "70J85P-wje_g"
      }
    },
    {
      "cell_type": "code",
      "source": [
        "df.to_csv('Quote_by_authors.csv')"
      ],
      "metadata": {
        "id": "woIWOlZthz7A"
      },
      "execution_count": 71,
      "outputs": []
    }
  ]
}